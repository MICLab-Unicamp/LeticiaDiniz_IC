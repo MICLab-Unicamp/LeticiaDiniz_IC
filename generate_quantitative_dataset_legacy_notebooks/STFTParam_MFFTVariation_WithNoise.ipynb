{
 "cells": [
  {
   "cell_type": "markdown",
   "id": "f3538049-b630-4210-89b6-1640c680a691",
   "metadata": {},
   "source": [
    "Notebook: Estudo da variação de mfft para sinais com ruído"
   ]
  },
  {
   "cell_type": "code",
   "execution_count": null,
   "id": "96c42341-8c37-4659-8d49-ad73c44f392a",
   "metadata": {},
   "outputs": [],
   "source": [
    "import numpy as np\n",
    "import matplotlib.pyplot as plt\n",
    "import h5py\n",
    "from scipy.signal.windows import hann\n",
    "from matplotlib import gridspec\n",
    "import json"
   ]
  },
  {
   "cell_type": "code",
   "execution_count": null,
   "id": "4c0c8ad3-1c21-4ec5-b0b1-0c5fed3d4071",
   "metadata": {
    "scrolled": true
   },
   "outputs": [],
   "source": [
    "import utils\n",
    "import functions_for_param_study as funcstud"
   ]
  },
  {
   "cell_type": "markdown",
   "id": "d991d77f-cc1c-451e-b921-b60d6e57b15c",
   "metadata": {},
   "source": [
    "Aquisição dos sinais simulados e geração dos espectrogramas:"
   ]
  },
  {
   "cell_type": "code",
   "execution_count": null,
   "id": "845f3dac-ac79-4292-aa75-85acba1ca494",
   "metadata": {},
   "outputs": [],
   "source": [
    "qntty = 100\n",
    "test_not_save = False"
   ]
  },
  {
   "cell_type": "code",
   "execution_count": null,
   "id": "660303a2-480b-4862-b6c3-60e864bf05d6",
   "metadata": {},
   "outputs": [],
   "source": [
    "#Import data obtained on EditedMRS_Reconstruction_Challenge github -- Ground-truths\n",
    "with h5py.File('../sample_data.h5') as hf:\n",
    "  print(hf.keys())\n",
    "  gt_fids = hf[\"ground_truth_fids\"][()][:qntty]\n",
    "  ppm = hf[\"ppm\"][()][:qntty]\n",
    "  t = hf[\"t\"][()][:qntty]\n",
    "  print(gt_fids.shape)\n",
    "  print(ppm.shape)\n",
    "  print(t.shape)"
   ]
  },
  {
   "cell_type": "code",
   "execution_count": null,
   "id": "cd8c3486-4dda-4e1d-87b9-d55fc769af19",
   "metadata": {},
   "outputs": [],
   "source": [
    "dwelltime = t[0,1]-t[0,0]\n",
    "bandwidth = 1/dwelltime\n",
    "N = gt_fids.shape[1]\n",
    "\n",
    "#gts\n",
    "spectra_gt_fids = np.fft.fftshift(np.fft.ifft(gt_fids,n=N,axis = 1), axes = 1)\n",
    "spectra_gt_diff = spectra_gt_fids[:,:,1] - spectra_gt_fids[:,:,0]\n",
    "freq = np.flip(np.fft.fftshift(np.fft.fftfreq(N, d = dwelltime)))\n",
    "\n",
    "#to get ppm axis\n",
    "idx_min = np.real(spectra_gt_diff[0,:]).argmin()\n",
    "idx_max = np.real(spectra_gt_diff[0,:]).argmax()\n",
    "#p = a*f + b\n",
    "a = (ppm[0,idx_max] - ppm[0,idx_min])/(freq[idx_max]-freq[idx_min])\n",
    "b = ppm[0,idx_max] - a*freq[idx_max]\n",
    "#ppm_aux = b + freq*a"
   ]
  },
  {
   "cell_type": "code",
   "execution_count": null,
   "id": "0f54cbb0-a825-4119-8ec3-b9f3e6a83c9a",
   "metadata": {},
   "outputs": [],
   "source": [
    "corrupted_fids = utils.create_corrupted_fids(gt=gt_fids,t=t,std_base=6,std_var=2,ntransients=160)"
   ]
  },
  {
   "cell_type": "code",
   "execution_count": null,
   "id": "e3a4cb7f-5cca-4284-b589-9f9cfc58e2eb",
   "metadata": {},
   "outputs": [],
   "source": [
    "mfft_ = np.arange(32,1024,20)\n",
    "window_ = []\n",
    "for i in range(mfft_.shape[0]):\n",
    "    window_.append(hann(int(mfft_[i]),sym=True))\n",
    "hop_ = 8\n",
    "norm_ = 'abs'\n",
    "spgram_mfft = {}\n",
    "for i in range(mfft_.shape[0]):\n",
    "    spgram_gt, freq_spect, ppm_spect, t_spect = utils.get_normalized_spectrogram(fids=np.mean(corrupted_fids[:,:,1,:]-corrupted_fids[:,:,0,:],axis=2),bandwidth=bandwidth,window=window_[i],mfft=int(mfft_[i]),hop=hop_,norm=norm_,correct_time=True,a=a,b=b)\n",
    "    spgram_mfft['mfft_'+str(mfft_[i])] = [spgram_gt, freq_spect, ppm_spect, t_spect]"
   ]
  },
  {
   "cell_type": "markdown",
   "id": "8ff2f3b5-244d-4bf8-bc47-c0ff23eef283",
   "metadata": {},
   "source": [
    "Algumas colunas e linhas de interesse na análise dos espectrogramas:"
   ]
  },
  {
   "cell_type": "code",
   "execution_count": null,
   "id": "cba91172-5ec9-4349-b145-b3bc86921105",
   "metadata": {},
   "outputs": [],
   "source": [
    "list_of_t_spects = []\n",
    "list_of_ppm_spects = []\n",
    "for i in range(mfft_.shape[0]):\n",
    "    list_of_t_spects.append(spgram_mfft['mfft_'+str(mfft_[i])][-1])\n",
    "    list_of_ppm_spects.append(spgram_mfft['mfft_'+str(mfft_[i])][2])\n",
    "idx_time_0d05 = utils.give_idx_time_point_for_different_time_arrays(list_time_arrays=list_of_t_spects,time_point=0.05)\n",
    "idx_time_0d4 = utils.give_idx_time_point_for_different_time_arrays(list_time_arrays=list_of_t_spects,time_point=0.4)\n",
    "idx_time_0d6 = utils.give_idx_time_point_for_different_time_arrays(list_time_arrays=list_of_t_spects,time_point=0.6)\n",
    "idx_freq_0ppm = utils.give_idx_ppm_point_for_different_ppm_arrays(list_ppm_arrays=list_of_ppm_spects,ppm_point=0)\n",
    "idx_freq_1ppm = utils.give_idx_ppm_point_for_different_ppm_arrays(list_ppm_arrays=list_of_ppm_spects,ppm_point=1)\n",
    "idx_freq_4ppm = utils.give_idx_ppm_point_for_different_ppm_arrays(list_ppm_arrays=list_of_ppm_spects,ppm_point=4)\n",
    "idx_freq_8ppm = utils.give_idx_ppm_point_for_different_ppm_arrays(list_ppm_arrays=list_of_ppm_spects,ppm_point=8)\n",
    "idx_freq_8d5ppm = utils.give_idx_ppm_point_for_different_ppm_arrays(list_ppm_arrays=list_of_ppm_spects,ppm_point=8.5)\n",
    "idx_freq_NAA = utils.give_idx_ppm_point_for_different_ppm_arrays(list_ppm_arrays=list_of_ppm_spects,ppm_point=2.02)\n",
    "idx_freq_GABA = utils.give_idx_ppm_point_for_different_ppm_arrays(list_ppm_arrays=list_of_ppm_spects,ppm_point=3.00)\n",
    "idx_freq_Glx = utils.give_idx_ppm_point_for_different_ppm_arrays(list_ppm_arrays=list_of_ppm_spects,ppm_point=3.75)"
   ]
  },
  {
   "cell_type": "markdown",
   "id": "9ebe276d-5c2c-483d-90b5-07ce5e66b0a5",
   "metadata": {},
   "source": [
    "Projeção no eixo da frequência:"
   ]
  },
  {
   "cell_type": "code",
   "execution_count": null,
   "id": "73a45ecd-ceee-4cf0-89a6-ec89dbb25fe1",
   "metadata": {},
   "outputs": [],
   "source": [
    "plot_id = np.arange(2,len(mfft_),9)\n",
    "plot_abs = True\n",
    "fig,ax = plt.subplots(1,2,figsize=(15,4))\n",
    "for i in range(6):\n",
    "    if plot_abs == True:\n",
    "        aux = np.sum(np.abs(np.real(spgram_mfft['mfft_'+str(mfft_[plot_id[i]])][0][0,:,:])),axis=1)\n",
    "    else:\n",
    "        aux = np.sum(np.real(spgram_mfft['mfft_'+str(mfft_[plot_id[i]])][0][0,:,:]),axis=1)\n",
    "    ax[0].plot(np.flip(spgram_mfft['mfft_'+str(mfft_[plot_id[i]])][2]),aux+2*i,label='mfft = '+str(mfft_[plot_id[i]]))\n",
    "    ax[1].plot(np.flip(spgram_mfft['mfft_'+str(mfft_[plot_id[i]])][2]),aux+0.25*i,label='mfft = '+str(mfft_[plot_id[i]]))\n",
    "\n",
    "ax[0].set_xlim(3.5,1)  \n",
    "ax[1].set_xlim(4.2,3.43)\n",
    "ax[1].set_ylim(-0.1,5.5)  "
   ]
  },
  {
   "cell_type": "markdown",
   "id": "b9182768-3c30-438e-83b8-b849bd2c92ff",
   "metadata": {},
   "source": [
    "Medição da FWHM das projeções para os picos de NAA, GABA e Glx:"
   ]
  },
  {
   "cell_type": "code",
   "execution_count": null,
   "id": "8e6591ea-e7fd-4a2e-97b7-319d9d234c07",
   "metadata": {},
   "outputs": [],
   "source": [
    "list_projections_abs = []\n",
    "list_projections_real = []\n",
    "fwhm_mfft = {}\n",
    "idx_fwhm = {}\n",
    "fwhm_mfft_real = {}\n",
    "idx_fwhm_real = {}\n",
    "for i in range(len(mfft_)):\n",
    "    list_projections_abs.append(np.sum(np.abs(np.real(spgram_mfft['mfft_'+str(mfft_[i])][0])), axis = 2))\n",
    "    list_projections_real.append(np.sum(np.real(spgram_mfft['mfft_'+str(mfft_[i])][0]), axis = 2))\n",
    "    idx_fwhm['mfft_'+str(mfft_[i])] = {}\n",
    "    idx_fwhm_real['mfft_'+str(mfft_[i])] = {}\n",
    "\n",
    "fwhm_mfft['NAA'], aux_idx_NAA_abs = utils.get_fwhm_in_ppm_for_different_signals(list_signals=list_projections_abs,list_peak_idx=idx_freq_NAA,list_ppm=list_of_ppm_spects,peak_ppm_plus=2.50,peak_ppm_minus=1.50,preference='positive')\n",
    "fwhm_mfft['GABA'], aux_idx_GABA_abs = utils.get_fwhm_in_ppm_for_different_signals(list_signals=list_projections_abs,list_peak_idx=idx_freq_GABA,list_ppm=list_of_ppm_spects,peak_ppm_plus=3.50,peak_ppm_minus=2.50,preference='positive')\n",
    "fwhm_mfft['Glx'], aux_idx_Glx_abs = utils.get_fwhm_in_ppm_for_different_signals(list_signals=list_projections_abs,list_peak_idx=idx_freq_Glx,list_ppm=list_of_ppm_spects,peak_ppm_plus=4.00,peak_ppm_minus=3.50,preference='positive')\n",
    "\n",
    "fwhm_mfft_real['NAA'], aux_idx_NAA_real = utils.get_fwhm_in_ppm_for_different_signals(list_signals=list_projections_real,list_peak_idx=idx_freq_NAA,list_ppm=list_of_ppm_spects,peak_ppm_plus=2.50,peak_ppm_minus=1.50,preference='negative')\n",
    "fwhm_mfft_real['GABA'], aux_idx_GABA_real = utils.get_fwhm_in_ppm_for_different_signals(list_signals=list_projections_real,list_peak_idx=idx_freq_GABA,list_ppm=list_of_ppm_spects,peak_ppm_plus=3.50,peak_ppm_minus=2.50,preference='positive')\n",
    "fwhm_mfft_real['Glx'], aux_idx_Glx_real = utils.get_fwhm_in_ppm_for_different_signals(list_signals=list_projections_real,list_peak_idx=idx_freq_Glx,list_ppm=list_of_ppm_spects,peak_ppm_plus=4.00,peak_ppm_minus=3.50,preference='positive')\n",
    "\n",
    "for i in range(len(mfft_)):\n",
    "    idx_fwhm['mfft_'+str(mfft_[i])]['NAA'] = aux_idx_NAA_abs[i]\n",
    "    idx_fwhm['mfft_'+str(mfft_[i])]['GABA'] = aux_idx_GABA_abs[i]\n",
    "    idx_fwhm['mfft_'+str(mfft_[i])]['Glx'] = aux_idx_Glx_abs[i]\n",
    "    idx_fwhm_real['mfft_'+str(mfft_[i])]['NAA'] = aux_idx_NAA_real[i]\n",
    "    idx_fwhm_real['mfft_'+str(mfft_[i])]['GABA'] = aux_idx_GABA_real[i]\n",
    "    idx_fwhm_real['mfft_'+str(mfft_[i])]['Glx'] = aux_idx_Glx_real[i]"
   ]
  },
  {
   "cell_type": "code",
   "execution_count": null,
   "id": "6726c5be-19c8-4a0d-857a-5fd287a94df8",
   "metadata": {},
   "outputs": [],
   "source": [
    "plot_id = np.arange(0,len(mfft_),10)\n",
    "fig,ax = plt.subplots(2,3,figsize=(15,8))\n",
    "for i in range(5):\n",
    "    ax.flat[i].plot(np.flip(spgram_mfft['mfft_'+str(mfft_[plot_id[i]])][2]),(np.sum(np.abs(np.real(spgram_mfft['mfft_'+str(mfft_[plot_id[i]])][0][0,:,:])),axis=1)),label='mfft = '+str(mfft_[plot_id[i]]))\n",
    "    ax.flat[i].set_xlim(4.5,1)\n",
    "    ax.flat[i].vlines(np.flip(spgram_mfft['mfft_'+str(mfft_[plot_id[i]])][2])[int(idx_fwhm['mfft_'+str(mfft_[plot_id[i]])]['NAA'][0,2])],0,30,color='r')\n",
    "    ax.flat[i].vlines(np.flip(spgram_mfft['mfft_'+str(mfft_[plot_id[i]])][2])[int(idx_fwhm['mfft_'+str(mfft_[plot_id[i]])]['NAA'][0,0])],0,30,color='m')\n",
    "    ax.flat[i].vlines(np.flip(spgram_mfft['mfft_'+str(mfft_[plot_id[i]])][2])[int(idx_fwhm['mfft_'+str(mfft_[plot_id[i]])]['NAA'][0,1])],0,30,color='m')\n",
    "    ax.flat[i].vlines(np.flip(spgram_mfft['mfft_'+str(mfft_[plot_id[i]])][2])[int(idx_fwhm['mfft_'+str(mfft_[plot_id[i]])]['GABA'][0,2])],0,30,color='r')\n",
    "    ax.flat[i].vlines(np.flip(spgram_mfft['mfft_'+str(mfft_[plot_id[i]])][2])[int(idx_fwhm['mfft_'+str(mfft_[plot_id[i]])]['GABA'][0,0])],0,30,color='m')\n",
    "    ax.flat[i].vlines(np.flip(spgram_mfft['mfft_'+str(mfft_[plot_id[i]])][2])[int(idx_fwhm['mfft_'+str(mfft_[plot_id[i]])]['GABA'][0,1])],0,30,color='m')\n",
    "    ax.flat[i].vlines(np.flip(spgram_mfft['mfft_'+str(mfft_[plot_id[i]])][2])[int(idx_fwhm['mfft_'+str(mfft_[plot_id[i]])]['Glx'][0,2])],0,30,color='r')\n",
    "    ax.flat[i].vlines(np.flip(spgram_mfft['mfft_'+str(mfft_[plot_id[i]])][2])[int(idx_fwhm['mfft_'+str(mfft_[plot_id[i]])]['Glx'][0,0])],0,30,color='m')\n",
    "    ax.flat[i].vlines(np.flip(spgram_mfft['mfft_'+str(mfft_[plot_id[i]])][2])[int(idx_fwhm['mfft_'+str(mfft_[plot_id[i]])]['Glx'][0,1])],0,30,color='m')\n",
    "    ax.flat[i].legend(loc='upper right')\n",
    "ax[1,2].axis('off')"
   ]
  },
  {
   "cell_type": "code",
   "execution_count": null,
   "id": "fabca043-443b-4f43-b972-0be9e989fb83",
   "metadata": {},
   "outputs": [],
   "source": [
    "fig,ax = plt.subplots(1,2,figsize=(15,3))\n",
    "ax[0].plot(mfft_,fwhm_mfft['NAA']['mean'],label='NAA',color='b')\n",
    "ax[0].fill_between(mfft_, np.array(fwhm_mfft['NAA']['mean']) - np.array(fwhm_mfft['NAA']['std']), \n",
    "                        np.array(fwhm_mfft['NAA']['mean']) + np.array(fwhm_mfft['NAA']['std']), alpha=0.35, color = 'b')\n",
    "ax[0].plot(mfft_,fwhm_mfft['GABA']['mean'],label='GABA',color='orange')\n",
    "ax[0].fill_between(mfft_, np.array(fwhm_mfft['GABA']['mean']) - np.array(fwhm_mfft['GABA']['std']), \n",
    "                        np.array(fwhm_mfft['GABA']['mean']) + np.array(fwhm_mfft['GABA']['std']), alpha=0.35, color = 'orange')\n",
    "ax[0].set_title('FWHM x mfft')\n",
    "ax[0].set_xlabel('mfft')\n",
    "ax[0].set_ylabel('FWHM')\n",
    "ax[0].legend(loc='upper left')\n",
    "ax[1].plot(mfft_,fwhm_mfft['Glx']['mean'],label='Glx',color='g')\n",
    "ax[1].fill_between(mfft_, np.array(fwhm_mfft['Glx']['mean']) - np.array(fwhm_mfft['Glx']['std']), \n",
    "                        np.array(fwhm_mfft['Glx']['mean']) + np.array(fwhm_mfft['Glx']['std']), alpha=0.35, color = 'g')\n",
    "ax[1].set_title('FWHM x mfft')\n",
    "ax[1].set_xlabel('mfft')\n",
    "ax[1].set_ylabel('FWHM')\n",
    "ax[1].legend(loc='upper left')"
   ]
  },
  {
   "cell_type": "code",
   "execution_count": null,
   "id": "a37c513a-45d4-4abd-b392-8caf17c6376f",
   "metadata": {},
   "outputs": [],
   "source": [
    "plot_id = np.arange(0,len(mfft_),10)\n",
    "fig,ax = plt.subplots(2,3,figsize=(15,8))\n",
    "for i in range(5):\n",
    "    ax.flat[i].plot(np.flip(spgram_mfft['mfft_'+str(mfft_[plot_id[i]])][2]),(np.sum(np.real(spgram_mfft['mfft_'+str(mfft_[plot_id[i]])][0][0,:,:]),axis=1)),label='mfft = '+str(mfft_[plot_id[i]]))\n",
    "    ax.flat[i].set_xlim(4.5,1)\n",
    "    ax.flat[i].vlines(np.flip(spgram_mfft['mfft_'+str(mfft_[plot_id[i]])][2])[int(idx_fwhm_real['mfft_'+str(mfft_[plot_id[i]])]['NAA'][0,2])],-0.5,3,color='r')\n",
    "    ax.flat[i].vlines(np.flip(spgram_mfft['mfft_'+str(mfft_[plot_id[i]])][2])[int(idx_fwhm_real['mfft_'+str(mfft_[plot_id[i]])]['NAA'][0,0])],-0.5,3,color='m')\n",
    "    ax.flat[i].vlines(np.flip(spgram_mfft['mfft_'+str(mfft_[plot_id[i]])][2])[int(idx_fwhm_real['mfft_'+str(mfft_[plot_id[i]])]['NAA'][0,1])],-0.5,3,color='m')\n",
    "    ax.flat[i].vlines(np.flip(spgram_mfft['mfft_'+str(mfft_[plot_id[i]])][2])[int(idx_fwhm_real['mfft_'+str(mfft_[plot_id[i]])]['GABA'][0,2])],-0.5,3,color='r')\n",
    "    ax.flat[i].vlines(np.flip(spgram_mfft['mfft_'+str(mfft_[plot_id[i]])][2])[int(idx_fwhm_real['mfft_'+str(mfft_[plot_id[i]])]['GABA'][0,0])],-0.5,3,color='m')\n",
    "    ax.flat[i].vlines(np.flip(spgram_mfft['mfft_'+str(mfft_[plot_id[i]])][2])[int(idx_fwhm_real['mfft_'+str(mfft_[plot_id[i]])]['GABA'][0,1])],-0.5,3,color='m')\n",
    "    ax.flat[i].vlines(np.flip(spgram_mfft['mfft_'+str(mfft_[plot_id[i]])][2])[int(idx_fwhm_real['mfft_'+str(mfft_[plot_id[i]])]['Glx'][0,2])],-0.5,3,color='r')\n",
    "    ax.flat[i].vlines(np.flip(spgram_mfft['mfft_'+str(mfft_[plot_id[i]])][2])[int(idx_fwhm_real['mfft_'+str(mfft_[plot_id[i]])]['Glx'][0,0])],-0.5,3,color='m')\n",
    "    ax.flat[i].vlines(np.flip(spgram_mfft['mfft_'+str(mfft_[plot_id[i]])][2])[int(idx_fwhm_real['mfft_'+str(mfft_[plot_id[i]])]['Glx'][0,1])],-0.5,3,color='m')\n",
    "    ax.flat[i].legend(loc='upper right')\n",
    "ax[1,2].axis('off')"
   ]
  },
  {
   "cell_type": "code",
   "execution_count": null,
   "id": "e50181fd-b8df-475b-9e65-610d39c38107",
   "metadata": {},
   "outputs": [],
   "source": [
    "fig,ax = plt.subplots(1,2,figsize=(15,3))\n",
    "ax[0].plot(mfft_,fwhm_mfft_real['NAA']['mean'],label='NAA',color='b')\n",
    "ax[0].fill_between(mfft_, np.array(fwhm_mfft_real['NAA']['mean']) - np.array(fwhm_mfft_real['NAA']['std']), \n",
    "                        np.array(fwhm_mfft_real['NAA']['mean']) + np.array(fwhm_mfft_real['NAA']['std']), alpha=0.35, color = 'b')\n",
    "ax[0].plot(mfft_,fwhm_mfft_real['GABA']['mean'],label='GABA',color='orange')\n",
    "ax[0].fill_between(mfft_, np.array(fwhm_mfft_real['GABA']['mean']) - np.array(fwhm_mfft_real['GABA']['std']), \n",
    "                        np.array(fwhm_mfft_real['GABA']['mean']) + np.array(fwhm_mfft_real['GABA']['std']), alpha=0.35, color = 'orange')\n",
    "ax[0].set_title('FWHM x mfft')\n",
    "ax[0].set_xlabel('mfft')\n",
    "ax[0].set_ylabel('FWHM')\n",
    "ax[0].legend(loc='upper left')\n",
    "ax[1].plot(mfft_,fwhm_mfft_real['Glx']['mean'],label='Glx',color='g')\n",
    "ax[1].fill_between(mfft_, np.array(fwhm_mfft_real['Glx']['mean']) - np.array(fwhm_mfft_real['Glx']['std']), \n",
    "                        np.array(fwhm_mfft_real['Glx']['mean']) + np.array(fwhm_mfft_real['Glx']['std']), alpha=0.35, color = 'g')\n",
    "ax[1].set_title('FWHM x mfft')\n",
    "ax[1].set_xlabel('mfft')\n",
    "ax[1].set_ylabel('FWHM')\n",
    "ax[1].legend(loc='upper left')"
   ]
  },
  {
   "cell_type": "markdown",
   "id": "ad2f748f-fe4f-4197-b2e1-5c941fab2dc9",
   "metadata": {},
   "source": [
    "Espectrogramas concatenados:"
   ]
  },
  {
   "cell_type": "code",
   "execution_count": null,
   "id": "f3d7909a-a447-4436-9a95-683ca5f6779e",
   "metadata": {},
   "outputs": [],
   "source": [
    "aux_concat = (np.arange(2,len(mfft_),10)).tolist()\n",
    "aux_concat_NAA_idx = []\n",
    "aux_concat_Glx_idx = []\n",
    "plot_concat = []\n",
    "for idx in aux_concat:\n",
    "    plot_concat.append(mfft_[idx])\n",
    "    aux_concat_NAA_idx.append(idx_freq_NAA[idx])\n",
    "    aux_concat_Glx_idx.append(idx_freq_Glx[idx])\n",
    "    \n",
    "spgram_mfft_concat = funcstud.concatenate_different_mfft(list_mfft_idx=plot_concat,spgram_dict=spgram_mfft,time_idx=idx_time_0d4[0],fid_idx_plot=0)\n",
    "spgram_mfft_concat_NAA = funcstud.concatenate_different_mfft(list_mfft_idx=plot_concat,spgram_dict=spgram_mfft,time_idx=idx_time_0d4[0],fid_idx_plot=0,centered_ppm_last=idx_freq_NAA[aux_concat[-1]],list_idx_of_centered=aux_concat_NAA_idx)\n",
    "spgram_mfft_concat_Glx = funcstud.concatenate_different_mfft(list_mfft_idx=plot_concat,spgram_dict=spgram_mfft,time_idx=idx_time_0d4[0],fid_idx_plot=0,centered_ppm_last=idx_freq_Glx[aux_concat[-1]],list_idx_of_centered=aux_concat_Glx_idx)"
   ]
  },
  {
   "cell_type": "code",
   "execution_count": null,
   "id": "257d4ced-3d66-4b0f-bac7-0ede50533d70",
   "metadata": {},
   "outputs": [],
   "source": [
    "plt.imshow(np.real(spgram_mfft_concat), origin='lower',cmap='gray',aspect='auto',vmin=-0.04,vmax=0.04)\n",
    "count = 0\n",
    "center = spgram_mfft_concat.shape[0]/2\n",
    "idx_aux = idx_time_0d4[0]\n",
    "for i in range(2,len(mfft_),10):\n",
    "    aux = spgram_mfft['mfft_'+str(mfft_[i])][0].shape[1]\n",
    "    plt.hlines(center-int(aux/2)+idx_freq_1ppm[i],count,count+idx_aux-1)\n",
    "    plt.hlines(center-int(aux/2)+idx_freq_4ppm[i],count,count+idx_aux-1)\n",
    "    count = count+idx_aux"
   ]
  },
  {
   "cell_type": "markdown",
   "id": "c8233a5b-98f0-4354-86d9-f897f45484fd",
   "metadata": {},
   "source": [
    "Espectrogramas concatenados com diferentes alinhamento para visualizar os picos de GABA, NAA e Glx:"
   ]
  },
  {
   "cell_type": "code",
   "execution_count": null,
   "id": "bc735fa7-beac-42a7-a5d9-32df3388fa92",
   "metadata": {},
   "outputs": [],
   "source": [
    "fig,ax = plt.subplots(2,2,figsize=(16,8))\n",
    "aux = spgram_mfft['mfft_'+str(mfft_[2])][0].shape[1]\n",
    "ax.flat[0].imshow(np.real(spgram_mfft_concat[int(center)-int(aux/2)+idx_freq_1ppm[2]:int(center)-int(aux/2)+idx_freq_4ppm[2],:]), origin='lower', \n",
    "             aspect='auto',cmap='gray',vmin=-0.01,vmax=0.01)\n",
    "ax.flat[1].imshow(np.real(spgram_mfft_concat_NAA[370:390,:]), origin='lower', \n",
    "             aspect='auto',cmap='gray',vmin=-0.01,vmax=0.01)\n",
    "ax.flat[2].imshow(np.real(spgram_mfft_concat_Glx[465:500,:]), origin='lower', \n",
    "             aspect='auto',cmap='gray',vmin=-0.01,vmax=0.01)\n",
    "ax.flat[3].axis('off')"
   ]
  },
  {
   "cell_type": "markdown",
   "id": "2cbca2d6-f63f-4856-9832-a5d9774ee0c8",
   "metadata": {},
   "source": [
    "Medição do comprimento dos picos de GABA, NAA e Glx:"
   ]
  },
  {
   "cell_type": "code",
   "execution_count": null,
   "id": "c4a2e60c-9574-44f0-8cef-9b00e8eb2afd",
   "metadata": {},
   "outputs": [],
   "source": [
    "segm_dict = funcstud.segment_relevant_peaks_dict(spgram_dict=spgram_mfft,idx_list_1ppm=idx_freq_1ppm,idx_list_4ppm=idx_freq_4ppm,idx_list_GABA=idx_freq_GABA,idx_list_NAA=idx_freq_NAA,idx_list_Glx=idx_freq_Glx,idx_time_list_0d4=idx_time_0d4,idx_peaks_regions_limits_dict=idx_fwhm_real)\n",
    "sum_segment = funcstud.get_length_relevant_peaks_for_different_spgrams(segm_dict=segm_dict,spgram_dict=spgram_mfft,idx_list_1ppm=idx_freq_1ppm,idx_list_4ppm=idx_freq_4ppm,idx_list_GABA=idx_freq_GABA,idx_list_NAA=idx_freq_NAA,idx_list_Glx=idx_freq_Glx)"
   ]
  },
  {
   "cell_type": "code",
   "execution_count": null,
   "id": "2a0a9910-8c76-4a32-be7e-d96444f9e9d5",
   "metadata": {},
   "outputs": [],
   "source": [
    "idx_mfft = 2\n",
    "fig,ax = plt.subplots(1,3,figsize=(16,4))\n",
    "ax[0].imshow(segm_dict['mfft_'+str(mfft_[idx_mfft])][0,:,:],cmap='gray',aspect='auto',origin='lower')\n",
    "ax[1].imshow(np.real(spgram_mfft['mfft_'+str(mfft_[idx_mfft])][0][0,idx_freq_1ppm[idx_mfft]:idx_freq_4ppm[idx_mfft]+1,:]),cmap='gray',aspect='auto',origin='lower',vmin=-0.04,\n",
    "            vmax=0.04)\n",
    "ax[2].imshow(segm_dict['mfft_'+str(mfft_[idx_mfft])][0,:,:]*np.real(spgram_mfft['mfft_'+str(mfft_[idx_mfft])][0][0,idx_freq_1ppm[idx_mfft]:idx_freq_4ppm[idx_mfft]+1,:]),cmap='gray',aspect='auto',origin='lower',vmin=-0.04,\n",
    "            vmax=0.04)\n",
    "idx_NAA_plus1 = utils.give_idx_ppm_point(spgram_mfft['mfft_'+str(mfft_[idx_mfft])][2],2.50)\n",
    "idx_NAA_minus1 = utils.give_idx_ppm_point(spgram_mfft['mfft_'+str(mfft_[idx_mfft])][2],1.50)\n",
    "idx_GABA_plus1 = utils.give_idx_ppm_point(spgram_mfft['mfft_'+str(mfft_[idx_mfft])][2],3.50)\n",
    "idx_GABA_minus1 = utils.give_idx_ppm_point(spgram_mfft['mfft_'+str(mfft_[idx_mfft])][2],2.50)\n",
    "idx_Glx_plus1 = utils.give_idx_ppm_point(spgram_mfft['mfft_'+str(mfft_[idx_mfft])][2],4.00)\n",
    "idx_Glx_minus1 = utils.give_idx_ppm_point(spgram_mfft['mfft_'+str(mfft_[idx_mfft])][2],3.50)\n",
    "for i in range(3):\n",
    "    ax[i].hlines(idx_NAA_plus1-idx_freq_1ppm[idx_mfft],0,200,color='r')\n",
    "    ax[i].hlines(idx_NAA_minus1-idx_freq_1ppm[idx_mfft],0,200,color='r')\n",
    "    ax[i].hlines(idx_freq_NAA[idx_mfft]-idx_freq_1ppm[idx_mfft],0,200,color='r',linestyle='dashdot')\n",
    "    ax[i].hlines(idx_Glx_plus1-idx_freq_1ppm[idx_mfft],0,200,color='g')\n",
    "    ax[i].hlines(idx_Glx_minus1-idx_freq_1ppm[idx_mfft],0,200,color='g')\n",
    "    ax[i].hlines(idx_freq_Glx[idx_mfft]-idx_freq_1ppm[idx_mfft],0,200,color='y',linestyle='dashdot')\n",
    "    ax[i].hlines(idx_GABA_plus1-idx_freq_1ppm[idx_mfft],0,200,color='b',linestyle='dotted')\n",
    "    ax[i].hlines(idx_GABA_minus1-idx_freq_1ppm[idx_mfft],0,200,color='b',linestyle='dotted')\n",
    "    ax[i].hlines(idx_freq_GABA[idx_mfft]-idx_freq_1ppm[idx_mfft],0,200,color='b',linestyle='dashdot')"
   ]
  },
  {
   "cell_type": "code",
   "execution_count": null,
   "id": "af9666a7-b191-495d-8eaf-482f2953d305",
   "metadata": {},
   "outputs": [],
   "source": [
    "plt.plot(mfft_,sum_segment['NAA']['mean'],label='NAA',color='b')\n",
    "plt.fill_between(mfft_, np.array(sum_segment['NAA']['mean']) - np.array(sum_segment['NAA']['std']), \n",
    "                        np.array(sum_segment['NAA']['mean']) + np.array(sum_segment['NAA']['std']), alpha=0.35, color = 'b')\n",
    "plt.plot(mfft_,sum_segment['GABA']['mean'],label='GABA',color='r')\n",
    "plt.fill_between(mfft_, np.array(sum_segment['GABA']['mean']) - np.array(sum_segment['GABA']['std']), \n",
    "                        np.array(sum_segment['GABA']['mean']) + np.array(sum_segment['GABA']['std']), alpha=0.35, color = 'r')\n",
    "plt.plot(mfft_,sum_segment['Glx']['mean'],label='Glx',color='g')\n",
    "plt.fill_between(mfft_, np.array(sum_segment['Glx']['mean']) - np.array(sum_segment['Glx']['std']), \n",
    "                        np.array(sum_segment['Glx']['mean']) + np.array(sum_segment['Glx']['std']), alpha=0.35, color = 'g')\n",
    "plt.xlabel('mfft')\n",
    "plt.ylabel('Soma dos picos segmentados')\n",
    "plt.legend(loc='upper left',ncols=2)"
   ]
  },
  {
   "cell_type": "markdown",
   "id": "931b813b-7969-418b-8132-532178ca30e9",
   "metadata": {},
   "source": [
    "O padrão de listras das imagens muda com mfft?"
   ]
  },
  {
   "cell_type": "code",
   "execution_count": null,
   "id": "31cd75b8-8b08-4127-90fe-e922be3710c0",
   "metadata": {
    "scrolled": true
   },
   "outputs": [],
   "source": [
    "zcr_ = funcstud.get_zcr_for_relevant_peaks_for_different_spgrams(spgram_dict=spgram_mfft,idx_list_GABA=idx_freq_GABA,idx_list_NAA=idx_freq_NAA,idx_list_Glx=idx_freq_Glx,idx_time_list_0d4=idx_time_0d4)"
   ]
  },
  {
   "cell_type": "code",
   "execution_count": null,
   "id": "ed072214-e2bc-421c-b79a-1878dc48e74b",
   "metadata": {},
   "outputs": [],
   "source": [
    "aux_concat = (np.arange(19,26)).tolist()\n",
    "plot_concat = []\n",
    "for idx in aux_concat:\n",
    "    plot_concat.append(mfft_[idx])    \n",
    "spgram_mfft_concat_for_zcr = funcstud.concatenate_different_mfft(list_mfft_idx=plot_concat,spgram_dict=spgram_mfft,time_idx=idx_time_0d4[0],fid_idx_plot=0)"
   ]
  },
  {
   "cell_type": "code",
   "execution_count": null,
   "id": "ba568451-8997-4f64-8c22-5998fb6f283b",
   "metadata": {},
   "outputs": [],
   "source": [
    "from matplotlib.gridspec import GridSpec\n",
    "# Create figure and GridSpec\n",
    "fig = plt.figure(figsize=(16, 4))\n",
    "gs = GridSpec(1, 2, width_ratios=[1, 2])\n",
    "ax1 = fig.add_subplot(gs[0, 0])\n",
    "ax2 = fig.add_subplot(gs[0, 1])\n",
    "\n",
    "ax1.plot(mfft_,zcr_['NAA']['mean'],color='b',label='NAA')\n",
    "#ax1.plot(mfft_,np.convolve(zcr_['NAA'],(1/6)*np.ones(6),'same'),color='b',linestyle='dotted')\n",
    "ax1.fill_between(mfft_, np.array(zcr_['NAA']['mean']) - np.array(zcr_['NAA']['std']), \n",
    "                        np.array(zcr_['NAA']['mean']) + np.array(zcr_['NAA']['std']), alpha=0.35, color = 'b')\n",
    "ax1.plot(mfft_,zcr_['GABA']['mean'],color='r',label='GABA')\n",
    "ax1.fill_between(mfft_, np.array(zcr_['GABA']['mean']) - np.array(zcr_['GABA']['std']), \n",
    "                        np.array(zcr_['GABA']['mean']) + np.array(zcr_['GABA']['std']), alpha=0.35, color = 'r')\n",
    "ax1.plot(mfft_,zcr_['Glx']['mean'],color='g',label='Glx')\n",
    "#ax1.plot(mfft_,np.convolve(zcr_['Glx'],(1/6)*np.ones(6),'same'),color='g',linestyle='dotted')\n",
    "ax1.fill_between(mfft_, np.array(zcr_['Glx']['mean']) - np.array(zcr_['Glx']['std']), \n",
    "                        np.array(zcr_['Glx']['mean']) + np.array(zcr_['Glx']['std']), alpha=0.35, color = 'g')\n",
    "ax1.legend(loc='upper right')\n",
    "ax1.set_title('ZCR nas linhas dos picos de NAA, GABA e Glx x mfft')\n",
    "ax1.set_ylabel('ZCR')\n",
    "ax1.set_xlabel('mfft')\n",
    "\n",
    "ax2.imshow(np.real(spgram_mfft_concat_for_zcr),vmax = 0.04,vmin = -0.04,aspect='auto',cmap='gray',origin='lower')\n",
    "#ax2.set_xlim(int(19*idx_aux_all),int(26*idx_aux_all))\n",
    "ax2.set_ylim(230,300)\n",
    "ax2.set_xlabel('Pixels')\n",
    "ax2.set_ylabel('Pixels')\n",
    "ax2.set_title('Concatenação de Re(STFT(gt)) para mffts Consecutivos')"
   ]
  },
  {
   "cell_type": "markdown",
   "id": "79c8a43e-b379-4723-b5ae-78de93422539",
   "metadata": {},
   "source": [
    "Get some statistical insights:"
   ]
  },
  {
   "cell_type": "markdown",
   "id": "00d351d2-4cc3-4060-a7a1-575c9a559dd9",
   "metadata": {},
   "source": [
    "First, let's divide the image in sections of ppm:"
   ]
  },
  {
   "cell_type": "code",
   "execution_count": null,
   "id": "11316dac-9cea-4bc3-a6a2-019c39107a2a",
   "metadata": {},
   "outputs": [],
   "source": [
    "sections = [-4,-3,-2,-1,0,1,1.50,2.50,3.50,4,5,6,7,8.50,9,10]\n",
    "idx_time_list_sup = []\n",
    "for i in range(len(mfft_)):\n",
    "    idx_time_list_sup.append([idx_time_0d05[i],idx_time_0d05[i],idx_time_0d05[i],idx_time_0d05[i],idx_time_0d05[i],\n",
    "                            idx_time_0d4[i],idx_time_0d4[i],idx_time_0d4[i],idx_time_0d4[i],idx_time_0d4[i],\n",
    "                            idx_time_0d05[i],idx_time_0d05[i],\n",
    "                            idx_time_0d4[i],idx_time_0d05[i],idx_time_0d05[i]])\n",
    "max_sec, mean_sec, std_sec = funcstud.get_max_mean_std_per_sections_for_different_spgrams(spgram_dict=spgram_mfft, part='real', sections=sections, idx_time_list_sup=idx_time_list_sup)\n",
    "\n",
    "idx_time_list_inf = []\n",
    "for i in range(len(mfft_)):\n",
    "    idx_time_list_inf.append([idx_time_0d6[i]])\n",
    "max_sec_aux, mean_sec_aux, std_sec_aux = funcstud.get_max_mean_std_per_sections_for_different_spgrams(spgram_dict=spgram_mfft, part='real', sections=[1,4], idx_time_list_inf=idx_time_list_inf)\n",
    "max_sec['residual'] = max_sec_aux['1:4']\n",
    "mean_sec['residual'] = mean_sec_aux['1:4']\n",
    "std_sec['residual'] = std_sec_aux['1:4']"
   ]
  },
  {
   "cell_type": "markdown",
   "id": "2f7d428b-41f4-478f-bd12-8d8bcc6aaca4",
   "metadata": {},
   "source": [
    "Observe how the maximum value changes in every region with mfft:"
   ]
  },
  {
   "cell_type": "code",
   "execution_count": null,
   "id": "93e6105e-933b-4621-b19b-3955091b4032",
   "metadata": {},
   "outputs": [],
   "source": [
    "fig,ax = plt.subplots(2,3,figsize=(16,8))\n",
    "sections = [-4,-3,-2,-1,0,1,1.50,2.50,3.50,4,5,6,7,8.50,9,10]\n",
    "\n",
    "first_plot = [0,1,2,3,4,5,11,13,14]\n",
    "second_plot = [8,10,12]\n",
    "third_plot = [7,9]\n",
    "fourth_plot = [6]\n",
    "colors = ['#1f77b4','#ff7f0e','#2ca02c','#d62728','#9467bd','#8c564b','#e377c2','#7f7f7f','#bcbd22','#17becf']\n",
    "\n",
    "for j in range(len(first_plot)):\n",
    "        aux = max_sec[str(sections[first_plot[j]])+':'+str(sections[first_plot[j]+1])]['mean']\n",
    "        aux_std = max_sec[str(sections[first_plot[j]])+':'+str(sections[first_plot[j]+1])]['std']\n",
    "        ax.flat[0].plot(mfft_,aux,label =str(sections[first_plot[j]])+':'+str(sections[first_plot[j]+1]),marker='o',color=colors[j])\n",
    "        ax.flat[0].fill_between(mfft_, np.array(aux) - np.array(aux_std), \n",
    "                        np.array(aux) + np.array(aux_std), alpha=0.35, color=colors[j])\n",
    "for j in range(len(second_plot)):\n",
    "        aux = max_sec[str(sections[second_plot[j]])+':'+str(sections[second_plot[j]+1])]['mean']\n",
    "        aux_std = max_sec[str(sections[second_plot[j]])+':'+str(sections[second_plot[j]+1])]['std']\n",
    "        ax.flat[1].plot(mfft_,aux,label =str(sections[second_plot[j]])+':'+str(sections[second_plot[j]+1]),marker='o',color=colors[j])\n",
    "        ax.flat[1].fill_between(mfft_, np.array(aux) - np.array(aux_std), \n",
    "                        np.array(aux) + np.array(aux_std), alpha=0.35, color=colors[j])\n",
    "for j in range(len(third_plot)):\n",
    "        aux = max_sec[str(sections[third_plot[j]])+':'+str(sections[third_plot[j]+1])]['mean']\n",
    "        aux_std = max_sec[str(sections[third_plot[j]])+':'+str(sections[third_plot[j]+1])]['std']\n",
    "        ax.flat[2].plot(mfft_,aux,label =str(sections[third_plot[j]])+':'+str(sections[third_plot[j]+1]),marker='o',color=colors[j])\n",
    "        ax.flat[2].fill_between(mfft_, np.array(aux) - np.array(aux_std), \n",
    "                        np.array(aux) + np.array(aux_std), alpha=0.35, color=colors[j])\n",
    "for j in range(len(fourth_plot)):\n",
    "        aux = max_sec[str(sections[fourth_plot[j]])+':'+str(sections[fourth_plot[j]+1])]['mean']\n",
    "        aux_std = max_sec[str(sections[fourth_plot[j]])+':'+str(sections[fourth_plot[j]+1])]['std']\n",
    "        ax.flat[3].plot(mfft_,aux,label =str(sections[fourth_plot[j]])+':'+str(sections[fourth_plot[j]+1]),marker='o',color=colors[j])\n",
    "        ax.flat[3].fill_between(mfft_, np.array(aux) - np.array(aux_std), \n",
    "                        np.array(aux) + np.array(aux_std), alpha=0.35, color=colors[j])\n",
    "ax.flat[4].plot(mfft_,max_sec['residual']['mean'],label='residual',marker='o')\n",
    "ax.flat[4].fill_between(mfft_, np.array(max_sec['residual']['mean']) - np.array(max_sec['residual']['std']), \n",
    "                        np.array(max_sec['residual']['mean']) + np.array(max_sec['residual']['std']), alpha=0.35, color=colors[j])\n",
    "for i in range(5):\n",
    "    ax.flat[i].legend(loc='upper right',ncols=3)\n",
    "    \n",
    "ax.flat[5].imshow(np.real(spgram_mfft['mfft_'+str(mfft_[45])][0][0,:,:idx_time_0d4[45]]), origin='lower',cmap='gray',aspect='auto',vmin=-0.04,vmax=0.04,\n",
    "            extent = (spgram_mfft['mfft_'+str(mfft_[45])][-1][0],spgram_mfft['mfft_'+str(mfft_[45])][-1][idx_time_0d4[45]],\n",
    "                     np.flip(spgram_mfft['mfft_'+str(mfft_[45])][2])[0],np.flip(spgram_mfft['mfft_'+str(mfft_[45])][2])[-1]))"
   ]
  },
  {
   "cell_type": "markdown",
   "id": "03ad76a8-a8cc-40ef-b74b-bf535ae30d8a",
   "metadata": {},
   "source": [
    "Using these values we can segment the regions of the image:"
   ]
  },
  {
   "cell_type": "code",
   "execution_count": null,
   "id": "f035e8ba-1adf-4d76-a774-7ebe9c4d63d2",
   "metadata": {},
   "outputs": [],
   "source": [
    "fig,ax = plt.subplots(5,6,figsize=(16,25))\n",
    "plot_id = np.arange(2,len(mfft_),10)\n",
    "row = 0\n",
    "for idx in range(len(plot_id)):\n",
    "    seg_res = np.abs(np.real(spgram_mfft['mfft_'+str(mfft_[plot_id[idx]])][0][0,:,:])) < 0.02\n",
    "    seg_res2 = (np.abs(np.real(spgram_mfft['mfft_'+str(mfft_[plot_id[idx]])][0][0,:,:])) > 0.02).astype('int')*(np.abs(np.real(spgram_mfft['mfft_'+str(mfft_[plot_id[idx]])][0][0,:,:])) < 0.04).astype('int')\n",
    "    seg_res3 = (np.abs(np.real(spgram_mfft['mfft_'+str(mfft_[plot_id[idx]])][0][0,:,:])) > 0.04).astype('int')*(np.abs(np.real(spgram_mfft['mfft_'+str(mfft_[plot_id[idx]])][0][0,:,:])) < 0.08).astype('int')\n",
    "    seg_res4 = (np.abs(np.real(spgram_mfft['mfft_'+str(mfft_[plot_id[idx]])][0][0,:,:])) > 0.08).astype('int')*(np.abs(np.real(spgram_mfft['mfft_'+str(mfft_[plot_id[idx]])][0][0,:,:])) < 0.2).astype('int')\n",
    "    seg_res5 = (np.abs(np.real(spgram_mfft['mfft_'+str(mfft_[plot_id[idx]])][0][0,:,:])) > 0.2).astype('int')*(np.abs(np.real(spgram_mfft['mfft_'+str(mfft_[plot_id[idx]])][0][0,:,:])) < 0.6).astype('int')\n",
    "    seg_res6 = (np.abs(np.real(spgram_mfft['mfft_'+str(mfft_[plot_id[idx]])][0][0,:,:])) > 0.6).astype('int')*(np.abs(np.real(spgram_mfft['mfft_'+str(mfft_[plot_id[idx]])][0][0,:,:])) < 1).astype('int')\n",
    "    ax.flat[6*row].imshow(seg_res,cmap='gray',origin='lower',aspect='auto',\n",
    "                    extent = (spgram_mfft['mfft_'+str(mfft_[plot_id[idx]])][-1][0],spgram_mfft['mfft_'+str(mfft_[plot_id[idx]])][-1][-1],\n",
    "                    np.flip(spgram_mfft['mfft_'+str(mfft_[plot_id[idx]])][2])[0],np.flip(spgram_mfft['mfft_'+str(mfft_[plot_id[idx]])][2])[-1]))\n",
    "    ax.flat[6*row+1].imshow(seg_res2,cmap='gray',origin='lower',aspect='auto',\n",
    "                    extent = (spgram_mfft['mfft_'+str(mfft_[plot_id[idx]])][-1][0],spgram_mfft['mfft_'+str(mfft_[plot_id[idx]])][-1][-1],\n",
    "                    np.flip(spgram_mfft['mfft_'+str(mfft_[plot_id[idx]])][2])[0],np.flip(spgram_mfft['mfft_'+str(mfft_[plot_id[idx]])][2])[-1]))\n",
    "    ax.flat[6*row+2].imshow(seg_res3,cmap='gray',origin='lower',aspect='auto',\n",
    "                    extent = (spgram_mfft['mfft_'+str(mfft_[plot_id[idx]])][-1][0],spgram_mfft['mfft_'+str(mfft_[plot_id[idx]])][-1][-1],\n",
    "                    np.flip(spgram_mfft['mfft_'+str(mfft_[plot_id[idx]])][2])[0],np.flip(spgram_mfft['mfft_'+str(mfft_[plot_id[idx]])][2])[-1]))\n",
    "    ax.flat[6*row+3].imshow(seg_res4,cmap='gray',origin='lower',aspect='auto',\n",
    "                    extent = (spgram_mfft['mfft_'+str(mfft_[plot_id[idx]])][-1][0],spgram_mfft['mfft_'+str(mfft_[plot_id[idx]])][-1][-1],\n",
    "                    np.flip(spgram_mfft['mfft_'+str(mfft_[plot_id[idx]])][2])[0],np.flip(spgram_mfft['mfft_'+str(mfft_[plot_id[idx]])][2])[-1]))\n",
    "    ax.flat[6*row+4].imshow(seg_res5,cmap='gray',origin='lower',aspect='auto',\n",
    "                    extent = (spgram_mfft['mfft_'+str(mfft_[plot_id[idx]])][-1][0],spgram_mfft['mfft_'+str(mfft_[plot_id[idx]])][-1][-1],\n",
    "                    np.flip(spgram_mfft['mfft_'+str(mfft_[plot_id[idx]])][2])[0],np.flip(spgram_mfft['mfft_'+str(mfft_[plot_id[idx]])][2])[-1]))\n",
    "    ax.flat[6*row+5].imshow(seg_res6,cmap='gray',origin='lower',aspect='auto',\n",
    "                    extent = (spgram_mfft['mfft_'+str(mfft_[plot_id[idx]])][-1][0],spgram_mfft['mfft_'+str(mfft_[plot_id[idx]])][-1][-1],\n",
    "                    np.flip(spgram_mfft['mfft_'+str(mfft_[plot_id[idx]])][2])[0],np.flip(spgram_mfft['mfft_'+str(mfft_[plot_id[idx]])][2])[-1]))\n",
    "    ax.flat[6*row].set_title('mfft_'+str(mfft_[plot_id[idx]]))\n",
    "    row = row+1"
   ]
  },
  {
   "cell_type": "markdown",
   "id": "c1327f27-d6b8-487a-84f2-225e70589504",
   "metadata": {},
   "source": [
    "% of pixels in each segmented region x mfft value:"
   ]
  },
  {
   "cell_type": "code",
   "execution_count": null,
   "id": "694e1f1f-8226-4b31-9edc-2ff04f266794",
   "metadata": {},
   "outputs": [],
   "source": [
    "regions = [0.02,0.04,0.08,0.2,0.6]\n",
    "hist, bins, bins_centered, qntty_percent_regions = funcstud.histogram_for_different_spgram_and_qntty_per_histogram_region(spgram_dict=spgram_mfft,nbins=5000,part='real',regions=regions,normalized=True)\n",
    "hist_absolute, bins_absolute, bins_centered_absolute, qntty_absolute_regions = funcstud.histogram_for_different_spgram_and_qntty_per_histogram_region(spgram_dict=spgram_mfft,nbins=5000,part='real',regions=regions,normalized=False)"
   ]
  },
  {
   "cell_type": "code",
   "execution_count": null,
   "id": "ad48a64e-ad34-44ae-b70c-52d8c7501e46",
   "metadata": {},
   "outputs": [],
   "source": [
    "colors = ['b','r','g','m','orange','c']\n",
    "fig,ax = plt.subplots(2,6,figsize=(20,8))\n",
    "for i in range(len(list(qntty_percent_regions.keys()))):\n",
    "    aux = np.array(qntty_percent_regions[list(qntty_percent_regions.keys())[i]]['mean'])\n",
    "    aux_std = np.array(qntty_percent_regions[list(qntty_percent_regions.keys())[i]]['std'])\n",
    "\n",
    "    aux_absolute = np.array(qntty_absolute_regions[list(qntty_absolute_regions.keys())[i]]['mean'])\n",
    "    aux_absolute_std = np.array(qntty_absolute_regions[list(qntty_absolute_regions.keys())[i]]['std'])\n",
    "    ax[0,i].plot(mfft_,aux,marker='o',color=colors[i])\n",
    "    ax[0,i].fill_between(mfft_, aux - aux_std, \n",
    "                       aux + aux_std, alpha=0.35, color = colors[i])\n",
    "    ax[0,i].set_title(list(qntty_percent_regions.keys())[i])\n",
    "    ax[1,i].plot(mfft_,aux_absolute,marker='o',color=colors[i])\n",
    "    ax[1,i].fill_between(mfft_, aux_absolute - aux_absolute_std, \n",
    "                       aux_absolute + aux_absolute_std, alpha=0.35, color = colors[i])\n",
    "    ax[1,i].set_title(list(qntty_absolute_regions.keys())[i])"
   ]
  },
  {
   "cell_type": "markdown",
   "id": "aa2359c9-f43c-4c80-a7e2-73b53be5105b",
   "metadata": {},
   "source": [
    "Stats of each segmented region x mfft:"
   ]
  },
  {
   "cell_type": "code",
   "execution_count": null,
   "id": "f59703c3-f7ab-40a1-9c5f-a23ae992f83f",
   "metadata": {},
   "outputs": [],
   "source": [
    "stats_per_region = funcstud.stats_per_segmented_regions_for_different_spgrams(regions_threshold=regions,spgram_dict=spgram_mfft, part='real')"
   ]
  },
  {
   "cell_type": "code",
   "execution_count": null,
   "id": "c9ee7f1d-4b78-4bbe-8faf-ecf4c59ddb1b",
   "metadata": {},
   "outputs": [],
   "source": [
    "stats_global = utils.stats_global_for_different_spgrams(spgram_dict=spgram_mfft, part='part')"
   ]
  },
  {
   "cell_type": "code",
   "execution_count": null,
   "id": "b414e21f-6e4c-4952-a7bf-62e2ba2ce915",
   "metadata": {},
   "outputs": [],
   "source": [
    "fig,ax = plt.subplots(7,5,figsize=(20,15), sharex='col', height_ratios=[1, 1, 1, 1, 1, 1, 2])\n",
    "\n",
    "stat_name = ['mean','std','median','skewness','kurtosis']\n",
    "colors = ['b','r','g','m','orange','c']\n",
    "for j in range(len(stat_name)):\n",
    "    for i in range(len(list(stats_per_region[stat_name[j]].keys()))):\n",
    "        aux = np.array(stats_per_region[stat_name[j]][list(stats_per_region[stat_name[j]].keys())[i]]['mean'])\n",
    "        aux_std = np.array(stats_per_region[stat_name[j]][list(stats_per_region[stat_name[j]].keys())[i]]['std'])\n",
    "        ax[i,j].plot(mfft_,aux,marker='o',color=colors[i],label=list(stats_per_region[stat_name[j]].keys())[i])\n",
    "        ax[i,j].fill_between(mfft_, aux - aux_std, \n",
    "                           aux + aux_std, alpha=0.35, color = colors[i])\n",
    "        if i == 0:\n",
    "            ax[i,j].set_title(stat_name[j])\n",
    "        if j == 3:\n",
    "            ax[i,j].legend(loc='lower right')\n",
    "colors = ['#bcbd22']\n",
    "for i in range(len(stat_name)):\n",
    "    aux = np.array(stats_global[stat_name[i]]['mean'])\n",
    "    aux_std = np.array(stats_global[stat_name[i]]['std'])\n",
    "    ax[6,i].plot(mfft_,aux,marker='o',color=colors[0],label=\"global\")\n",
    "    ax[6,i].fill_between(mfft_, aux - aux_std, \n",
    "                       aux + aux_std, alpha=0.35, color = colors[0])\n",
    "    if i == 3:\n",
    "        ax[6,i].legend(loc='upper right')\n",
    "plt.show()"
   ]
  },
  {
   "cell_type": "markdown",
   "id": "50b76b6a-2e08-44b2-8091-f0041265f131",
   "metadata": {},
   "source": [
    "Checking visually the metrics obtained:"
   ]
  },
  {
   "cell_type": "code",
   "execution_count": null,
   "id": "13ae578c-2a77-4a04-a1fa-79597e4cd877",
   "metadata": {},
   "outputs": [],
   "source": [
    "fig,ax = plt.subplots(1,2,figsize=(20,4))\n",
    "colors = ['#1f77b4','#ff7f0e','#2ca02c','#d62728','#9467bd','#8c564b','#e377c2','#7f7f7f','#bcbd22','#17becf']\n",
    "plot_id = np.arange(0,9,2)\n",
    "for i in (range(len(plot_id))):\n",
    "    seg_ = np.abs(np.real(spgram_mfft['mfft_'+str(mfft_[plot_id[i]])][0][0,:,:])) < 0.02\n",
    "    aux = np.real(seg_*spgram_mfft['mfft_'+str(mfft_[plot_id[i]])][0][0,:,:]).ravel()\n",
    "    ax[0].hist(aux,200,alpha=0.5,density = True,label = 'mfft_'+str(mfft_[plot_id[i]]),color=colors[i])\n",
    "    ax[0].legend(loc='upper left',ncols=2)\n",
    "\n",
    "plot_id = np.arange(19,len(mfft_),6)\n",
    "for i in reversed(range(len(plot_id))):\n",
    "    seg_ = np.abs(np.real(spgram_mfft['mfft_'+str(mfft_[plot_id[i]])][0][0,:,:])) < 0.02\n",
    "    aux = np.real(seg_*spgram_mfft['mfft_'+str(mfft_[plot_id[i]])][0][0,:,:]).ravel()\n",
    "    ax[1].hist(aux,200,alpha=0.5,density = True,label = 'mfft_'+str(mfft_[plot_id[i]]),color=colors[i])\n",
    "    ax[1].legend(loc='upper left',ncols=2)"
   ]
  },
  {
   "cell_type": "code",
   "execution_count": null,
   "id": "0d4ed050-a129-42be-921d-5fd9f3334452",
   "metadata": {},
   "outputs": [],
   "source": [
    "fig,ax = plt.subplots(2,3,figsize=(20,6))\n",
    "plot_id = np.arange(2,len(mfft_),10)\n",
    "for i in (range(len(plot_id))):\n",
    "    seg_2 = (np.abs(np.real(spgram_mfft['mfft_'+str(mfft_[plot_id[i]])][0][0,:,:])) > 0.02).astype('int')*(np.abs(np.real(spgram_mfft['mfft_'+str(mfft_[plot_id[i]])][0][0,:,:])) < 0.04).astype('int')\n",
    "    aux = np.real(seg_2*spgram_mfft['mfft_'+str(mfft_[plot_id[i]])][0][0,:,:]).ravel()\n",
    "    aux_no_zeros = aux[aux != 0]\n",
    "    ax.flat[0].hist(aux_no_zeros,50,alpha=0.5,density = True,label = 'mfft_'+str(mfft_[plot_id[i]]))\n",
    "    seg_3 = (np.abs(np.real(spgram_mfft['mfft_'+str(mfft_[plot_id[i]])][0][0,:,:])) > 0.04).astype('int')*(np.abs(np.real(spgram_mfft['mfft_'+str(mfft_[plot_id[i]])][0][0,:,:])) < 0.08).astype('int')\n",
    "    aux = np.real(seg_3*spgram_mfft['mfft_'+str(mfft_[plot_id[i]])][0][0,:,:]).ravel()\n",
    "    aux_no_zeros = aux[aux != 0]\n",
    "    ax.flat[1].hist(aux_no_zeros,50,alpha=0.5,density = True,label = 'mfft_'+str(mfft_[plot_id[i]]))\n",
    "    seg_4 = (np.abs(np.real(spgram_mfft['mfft_'+str(mfft_[plot_id[i]])][0][0,:,:])) > 0.08).astype('int')*(np.abs(np.real(spgram_mfft['mfft_'+str(mfft_[plot_id[i]])][0][0,:,:])) < 0.2).astype('int')\n",
    "    aux = np.real(seg_4*spgram_mfft['mfft_'+str(mfft_[plot_id[i]])][0][0,:,:]).ravel()\n",
    "    aux_no_zeros = aux[aux != 0]\n",
    "    ax.flat[2].hist(aux_no_zeros,50,alpha=0.5,density = True,label = 'mfft_'+str(mfft_[plot_id[i]]))\n",
    "    seg_5 = (np.abs(np.real(spgram_mfft['mfft_'+str(mfft_[plot_id[i]])][0][0,:,:])) > 0.2).astype('int')*(np.abs(np.real(spgram_mfft['mfft_'+str(mfft_[plot_id[i]])][0][0,:,:])) < 0.6).astype('int')\n",
    "    aux = np.real(seg_5*spgram_mfft['mfft_'+str(mfft_[plot_id[i]])][0][0,:,:]).ravel()\n",
    "    aux_no_zeros = aux[aux != 0]\n",
    "    ax.flat[3].hist(aux_no_zeros,50,alpha=0.5,density = True,label = 'mfft_'+str(mfft_[plot_id[i]]))\n",
    "    seg_6 = (np.abs(np.real(spgram_mfft['mfft_'+str(mfft_[plot_id[i]])][0][0,:,:])) > 0.6).astype('int')\n",
    "    aux = np.real(seg_6*spgram_mfft['mfft_'+str(mfft_[plot_id[i]])][0][0,:,:]).ravel()\n",
    "    aux_no_zeros = aux[aux != 0]\n",
    "    ax.flat[4].hist(aux_no_zeros,15,alpha=0.5,density = True,label = 'mfft_'+str(mfft_[plot_id[i]]))\n",
    "    ax.flat[5].scatter(np.arange(aux_no_zeros.shape[0]),aux_no_zeros,marker='o')\n",
    "\n",
    "ax.flat[0].legend(loc='upper center')"
   ]
  },
  {
   "cell_type": "code",
   "execution_count": null,
   "id": "b1b7af58-50b6-450f-b5c6-cf1b9f71a69a",
   "metadata": {},
   "outputs": [],
   "source": [
    "from scipy import stats\n",
    "for reg in list(stats_per_region['std'].keys()):\n",
    "    print(\"test hypothesis (kurt/std) residual for region \",reg,\":\",stats.pearsonr(stats_per_region['std'][reg]['mean'], stats_per_region['kurtosis'][reg]['mean']))"
   ]
  },
  {
   "cell_type": "code",
   "execution_count": null,
   "id": "7bf091ab-c9bc-43d1-be33-c080de508849",
   "metadata": {},
   "outputs": [],
   "source": [
    "from scipy import stats\n",
    "for reg in list(stats_per_region['std'].keys()):\n",
    "    print(\"test hypothesis (skew/mean) residual for region \",reg,\":\",stats.pearsonr(stats_per_region['mean'][reg]['mean'], stats_per_region['skewness'][reg]['mean']))"
   ]
  },
  {
   "cell_type": "code",
   "execution_count": null,
   "id": "6456a458-590f-4f95-8a18-70fe782582f1",
   "metadata": {},
   "outputs": [],
   "source": [
    "plot_id = np.arange(2,len(mfft_),10)\n",
    "#plot_id = np.arange(0,len(mfft_))\n",
    "for i in (range(len(plot_id))):\n",
    "    seg_3 = (np.abs(np.real(spgram_mfft['mfft_'+str(mfft_[plot_id[i]])][0][0,:,:])) > 0.04).astype('int')*(np.abs(np.real(spgram_mfft['mfft_'+str(mfft_[plot_id[i]])][0][0,:,:])) < 0.08).astype('int')\n",
    "    aux = np.real(seg_3*spgram_mfft['mfft_'+str(mfft_[plot_id[i]])][0][0,:,:]).ravel()\n",
    "    aux_no_zeros = aux[aux != 0]\n",
    "    hist_aux,bins_aux = np.histogram(aux_no_zeros,50,density = True)\n",
    "    idx = []\n",
    "    for k in range(len(hist_aux)):\n",
    "        if hist_aux[k] == 0:\n",
    "            idx.append(k)\n",
    "    print(np.sum(hist_aux[:idx[0]]),np.sum(hist_aux[idx[-1]+1:]))"
   ]
  },
  {
   "cell_type": "code",
   "execution_count": null,
   "id": "7b0c91bf-7966-4b36-bf6c-72b7ad2a3ec2",
   "metadata": {},
   "outputs": [],
   "source": [
    "plot_id = np.arange(2,len(mfft_),10)\n",
    "colors = ['#1f77b4','#ff7f0e','#2ca02c','#d62728','#9467bd','#8c564b','#e377c2','#7f7f7f','#bcbd22','#17becf']\n",
    "\n",
    "fig,ax = plt.subplots(1,1,figsize=(16,4))\n",
    "for i in (range(len(plot_id))):\n",
    "    plt.hist(np.real(spgram_mfft['mfft_'+str(mfft_[plot_id[i]])][0][0,:,:]).ravel(),1000,alpha=0.5,density = True,label = 'mfft_'+str(mfft_[plot_id[i]]))\n",
    "\n",
    "\n",
    "\n",
    "axins = ax.inset_axes([0.1, 0.7, 0.3, 0.3], xlim=(-1, -0.1), ylim=(0, 0.08))\n",
    "ax.indicate_inset_zoom(axins, edgecolor=\"black\")\n",
    "\n",
    "# Create the second inset (-0.1, -0.001)\n",
    "axins2 = ax.inset_axes([0.1, 0.3, 0.3, 0.3], xlim=(-0.1, -0.001), ylim=(0, 5))\n",
    "ax.indicate_inset_zoom(axins2, edgecolor=\"black\")\n",
    "\n",
    "# Create the third inset (0.001, 0.1)\n",
    "axins3 = ax.inset_axes([0.6, 0.3, 0.3, 0.3], xlim=(0.001, 0.1), ylim=(0, 5))\n",
    "ax.indicate_inset_zoom(axins3, edgecolor=\"black\")\n",
    "\n",
    "# Create the fourth inset (0.1, 1)\n",
    "axins4 = ax.inset_axes([0.6, 0.7, 0.3, 0.3], xlim=(0.1, 1), ylim=(0, 0.08))\n",
    "ax.indicate_inset_zoom(axins4, edgecolor=\"black\")\n",
    "\n",
    "\n",
    "for i in (range(len(plot_id))):\n",
    "        axins.hist(np.real(spgram_mfft['mfft_'+str(mfft_[plot_id[i]])][0][0,:,:]).ravel(), bins=200, alpha=0.5,density=True,color=colors[i])\n",
    "        axins2.hist(np.real(spgram_mfft['mfft_'+str(mfft_[plot_id[i]])][0][0,:,:]).ravel(), bins=200,alpha=0.5,density=True,color=colors[i])\n",
    "        axins3.hist(np.real(spgram_mfft['mfft_'+str(mfft_[plot_id[i]])][0][0,:,:]).ravel(), bins=200, alpha=0.5,density=True,color=colors[i])\n",
    "        axins4.hist(np.real(spgram_mfft['mfft_'+str(mfft_[plot_id[i]])][0][0,:,:]).ravel(), bins=200, alpha=0.5,density=True,color=colors[i])"
   ]
  },
  {
   "cell_type": "code",
   "execution_count": null,
   "id": "f684d457-97e4-493c-973f-3bd795ac8506",
   "metadata": {},
   "outputs": [],
   "source": [
    "print('mean')\n",
    "for reg in list(stats_per_region['mean'].keys()):\n",
    "    print(\"test hypothesis (mean) global and \",reg,\":\",stats.pearsonr(stats_per_region['mean'][reg]['mean'], stats_global['mean']['mean']))\n",
    "print('std')\n",
    "for reg in list(stats_per_region['std'].keys()):\n",
    "    print(\"test hypothesis (std) global and \",reg,\":\",stats.pearsonr(stats_per_region['std'][reg]['mean'], stats_global['std']['mean']))"
   ]
  },
  {
   "cell_type": "code",
   "execution_count": null,
   "id": "6a58901a-8b50-47a3-a042-ffc563380684",
   "metadata": {},
   "outputs": [],
   "source": [
    "stats.pearsonr(stats_global['std']['mean'], stats_global['kurtosis']['mean'])"
   ]
  },
  {
   "cell_type": "code",
   "execution_count": null,
   "id": "5bf2f886-d3dd-4620-b7a4-b067e45e505e",
   "metadata": {},
   "outputs": [],
   "source": [
    "stats.pearsonr(stats_global['mean']['mean'], stats_global['skewness']['mean'])"
   ]
  },
  {
   "cell_type": "code",
   "execution_count": null,
   "id": "21ab9b3f-9ad4-4f5a-beea-b8e701bbdecc",
   "metadata": {},
   "outputs": [],
   "source": [
    "if test_not_save == False:\n",
    "    zcr_list = {}\n",
    "    zcr_list['NAA'] = {}\n",
    "    zcr_list['NAA']['mean'] = list(zcr_['NAA']['mean'])\n",
    "    zcr_list['NAA']['std'] = list(zcr_['NAA']['std'])\n",
    "    zcr_list['GABA'] = {}\n",
    "    zcr_list['GABA']['mean'] = list(zcr_['GABA']['mean'])\n",
    "    zcr_list['GABA']['std'] = list(zcr_['GABA']['std'])\n",
    "    zcr_list['Glx'] = {}\n",
    "    zcr_list['Glx']['mean'] = list(zcr_['Glx']['mean'])\n",
    "    zcr_list['Glx']['std'] = list(zcr_['Glx']['std'])\n",
    "    with open(\"quantitative_metrics_with_noise_mfft_variation_hop_8.txt\", \"w\") as f:\n",
    "        f.write(\"fwhm_mfft=\")\n",
    "        f.write(json.dumps(fwhm_mfft))\n",
    "        f.write('\\n')\n",
    "        f.write(\"fwhm_mfft_real=\")\n",
    "        f.write(json.dumps(fwhm_mfft_real))\n",
    "        f.write('\\n')\n",
    "        f.write(\"sum_segment=\")\n",
    "        f.write(json.dumps(sum_segment))\n",
    "        f.write('\\n')\n",
    "        f.write(\"zcr_=\")\n",
    "        f.write(json.dumps(zcr_list))\n",
    "        f.write('\\n')\n",
    "        f.write(\"max_sec=\")\n",
    "        f.write(json.dumps(max_sec))\n",
    "        f.write('\\n')\n",
    "        f.write(\"qntty_percent_regions=\")\n",
    "        f.write(json.dumps(qntty_percent_regions))\n",
    "        f.write('\\n')\n",
    "        f.write(\"qntty_absolute_regions=\")\n",
    "        f.write(json.dumps(qntty_absolute_regions))\n",
    "        f.write('\\n')\n",
    "        f.write(\"stats_per_region=\")\n",
    "        f.write(json.dumps(stats_per_region))\n",
    "        f.write('\\n')\n",
    "        f.write(\"stats_global=\")\n",
    "        f.write(json.dumps(stats_global))"
   ]
  }
 ],
 "metadata": {
  "kernelspec": {
   "display_name": "Python 3 (ipykernel)",
   "language": "python",
   "name": "python3"
  },
  "language_info": {
   "codemirror_mode": {
    "name": "ipython",
    "version": 3
   },
   "file_extension": ".py",
   "mimetype": "text/x-python",
   "name": "python",
   "nbconvert_exporter": "python",
   "pygments_lexer": "ipython3",
   "version": "3.9.6"
  }
 },
 "nbformat": 4,
 "nbformat_minor": 5
}
